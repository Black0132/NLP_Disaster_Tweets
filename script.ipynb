{
 "cells": [
  {
   "attachments": {},
   "cell_type": "markdown",
   "metadata": {},
   "source": [
    "# **`PHÂN TÍCH DỮ LIỆU THÔNG MINH`**\n",
    "# **`ĐỒ ÁN THỰC HÀNH`** "
   ]
  },
  {
   "attachments": {},
   "cell_type": "markdown",
   "metadata": {},
   "source": [
    "        THÀNH VIÊN NHÓM \n",
    "\n",
    "|       Họ và tên       |   MSSV   |\n",
    "|:----------------------|---------:|\n",
    "|   Nguyễn Thế Đạt      | 20120055 |\n",
    "|    Trần Xuân Hòa      | 20120085 | \n",
    "| Lê Nguyễn Thanh Hoàng | 20120088 | \n",
    "|    Lê Hoàng Huy       | 20120105 | \n",
    "|  Nguyễn Việt Khoa     | 20120120 | \n",
    "|  Nguyễn Thành Nhân    | 20120151 | "
   ]
  },
  {
   "attachments": {},
   "cell_type": "markdown",
   "metadata": {},
   "source": [
    "                BẢNG PHÂN CÔNG\n",
    "    \n",
    "|Công việc | MSSV |\n",
    "|----|----|\n",
    "|Khám phá + tiền xử lý + tạo đặc trưng | 20120055 |\n",
    "|Mô hình Naive Bayes | 20120120 |\n",
    "|Mô hình Random forest | 20120105 |\n",
    "|Mô hình SVC | 20120151 |\n",
    "|Mô hình Logistic Regression | 20120088 |\n",
    "|Mô hình transformer+SVC | 20120085 |\n"
   ]
  },
  {
   "attachments": {},
   "cell_type": "markdown",
   "metadata": {},
   "source": [
    "## Giới thiệu chung về đồ án\n",
    "\n",
    "- Đồ án này sẽ dựa trên cuộc thi <a href=\"https://www.kaggle.com/competitions/nlp-getting-started/overview\">Natural Language Processing with Disaster Tweets</a> trên Kaggle. Trong đồ án này chúng ta cần xây dựng mô hình học máy dự đoán Tweet nào là nói về thảm họa thực sự và Tweet nào không.\n",
    "\n",
    "- Dự liệu bao gồm train.csv và test.csv. Cả 2 tập đều có 4 cột dữ liệu bao gồm 'id', 'keyword', 'location', 'text'. Tuy nhiên ở tập dữ liệu train.csv sẽ có thêm cột `target` để sử dụng cho việc xây dựng mô hình.\n",
    "\n",
    "    |   Dữ liệu     |   Dòng   |    Cột   |\n",
    "    |:--------------|:--------:|---------:|\n",
    "    |   train.csv   |   7613   |    5     |\n",
    "    |   test.csv    |   3263   |    4     |\n",
    "\n",
    "- Mỗi dòng của dữ liệu sẽ có những thì có những thông tin dạng văn bản để cho biết nó có phải là một thảm họa hay không."
   ]
  },
  {
   "attachments": {},
   "cell_type": "markdown",
   "metadata": {},
   "source": [
    "## 0. Import"
   ]
  },
  {
   "cell_type": "code",
   "execution_count": 25,
   "metadata": {},
   "outputs": [],
   "source": [
    "import re\n",
    "import pandas as pd\n",
    "import numpy as np\n",
    "import string\n",
    "import matplotlib.pyplot as plt\n",
    "\n",
    "from sklearn.metrics import accuracy_score\n",
    "from sklearn.model_selection import train_test_split\n",
    "from nltk.tokenize import word_tokenize\n",
    "\n",
    "from sklearn.decomposition import PCA, TruncatedSVD\n",
    "from sklearn.feature_extraction.text import TfidfVectorizer, CountVectorizer\n",
    "\n",
    "from sklearn.naive_bayes import MultinomialNB\n",
    "from sklearn.svm import SVC\n",
    "from sklearn.linear_model import LogisticRegression\n",
    "from sklearn.ensemble import RandomForestClassifier\n",
    "\n",
    "from unidecode import unidecode\n",
    "import tensorflow as tf\n",
    "from sentence_transformers import SentenceTransformer, util"
   ]
  },
  {
   "attachments": {},
   "cell_type": "markdown",
   "metadata": {},
   "source": [
    "## 1. Data procession"
   ]
  },
  {
   "cell_type": "code",
   "execution_count": 2,
   "metadata": {},
   "outputs": [],
   "source": [
    "train_df=pd.read_csv('train.csv')\n",
    "test_df=pd.read_csv('test.csv')"
   ]
  },
  {
   "cell_type": "code",
   "execution_count": 3,
   "metadata": {},
   "outputs": [
    {
     "name": "stdout",
     "output_type": "stream",
     "text": [
      "Index(['id', 'keyword', 'location', 'text', 'target'], dtype='object')\n",
      "Index(['id', 'keyword', 'location', 'text'], dtype='object')\n"
     ]
    }
   ],
   "source": [
    "print(train_df.columns)\n",
    "print(test_df.columns)"
   ]
  },
  {
   "attachments": {},
   "cell_type": "markdown",
   "metadata": {},
   "source": [
    "### 1.1. Missing value"
   ]
  },
  {
   "cell_type": "code",
   "execution_count": 4,
   "metadata": {},
   "outputs": [
    {
     "name": "stdout",
     "output_type": "stream",
     "text": [
      "id             0\n",
      "keyword       61\n",
      "location    2533\n",
      "text           0\n",
      "target         0\n",
      "dtype: int64\n",
      "\n",
      " (7613, 5)\n"
     ]
    }
   ],
   "source": [
    "print(train_df.isnull().sum())\n",
    "print('\\n', train_df.shape)"
   ]
  },
  {
   "attachments": {},
   "cell_type": "markdown",
   "metadata": {},
   "source": [
    "Đối với Missing value nhóm quyết định xóa các dữ liệu bị thiếu của cột `keyword` còn đối với cột `location` thì giữ nguyên vì nó chiếm tới gần 1/3 dữ liệu."
   ]
  },
  {
   "cell_type": "code",
   "execution_count": 5,
   "metadata": {},
   "outputs": [
    {
     "data": {
      "text/plain": [
       "id             0\n",
       "keyword        0\n",
       "location    2472\n",
       "text           0\n",
       "target         0\n",
       "dtype: int64"
      ]
     },
     "execution_count": 5,
     "metadata": {},
     "output_type": "execute_result"
    }
   ],
   "source": [
    "train_df.dropna(subset=['keyword'], inplace=True)\n",
    "train_df.isnull().sum()"
   ]
  },
  {
   "attachments": {},
   "cell_type": "markdown",
   "metadata": {},
   "source": [
    "### 1.2. Data Cleaning"
   ]
  },
  {
   "attachments": {},
   "cell_type": "markdown",
   "metadata": {},
   "source": [
    "Cột `keyword` có giá trị chứa '%20' thành ' '. Ví dụ 'airplane%20accident' thay '%20' bằng ' '.\n",
    "\n",
    "Cột `text` xóa: 'url', 'html tag', 'emojis' và 'punctuations'."
   ]
  },
  {
   "cell_type": "code",
   "execution_count": 6,
   "metadata": {},
   "outputs": [],
   "source": [
    "def keyword_preprocess(text):\n",
    "    if pd.notnull(text):\n",
    "        text = text.replace(\"%20\", \" \")\n",
    "    return text\n",
    "\n",
    "def remove_URL(text):\n",
    "    url = re.compile(r'https?://\\S+|www\\.\\S+')\n",
    "    return url.sub(r'', text)\n",
    "\n",
    "def remove_html(text):\n",
    "    html = re.compile(r'<.*?>')\n",
    "    return html.sub(r'', text)\n",
    "\n",
    "def remove_emoji(text):\n",
    "    emoji_pattern = re.compile(\"[\"\n",
    "                           u\"\\U0001F600-\\U0001F64F\"  # emoticons\n",
    "                           u\"\\U0001F300-\\U0001F5FF\"  # symbols & pictographs\n",
    "                           u\"\\U0001F680-\\U0001F6FF\"  # transport & map symbols\n",
    "                           u\"\\U0001F1E0-\\U0001F1FF\"  # flags (iOS)\n",
    "                           u\"\\U00002702-\\U000027B0\"\n",
    "                           u\"\\U000024C2-\\U0001F251\"\n",
    "                           \"]+\", flags=re.UNICODE)\n",
    "    return emoji_pattern.sub(r'', text)\n",
    "\n",
    "def remove_punct(text):\n",
    "    table = str.maketrans('', '', string.punctuation)\n",
    "    return text.translate(table)"
   ]
  },
  {
   "cell_type": "code",
   "execution_count": 7,
   "metadata": {},
   "outputs": [],
   "source": [
    "# Xử lý cột 'keyword'\n",
    "train_df['keyword'] = train_df['keyword'].apply(keyword_preprocess)\n",
    "test_df['keyword'] = test_df['keyword'].apply(keyword_preprocess)"
   ]
  },
  {
   "cell_type": "code",
   "execution_count": 8,
   "metadata": {},
   "outputs": [],
   "source": [
    "#Xử lý cột 'text' ở train_df\n",
    "train_df['text'] = train_df['text'].apply(remove_URL)\n",
    "train_df['text'] = train_df['text'].apply(remove_html)\n",
    "train_df['text'] = train_df['text'].apply(remove_emoji)\n",
    "train_df['text'] = train_df['text'].apply(remove_punct)\n",
    "\n",
    "#Xử lý cột 'text' ở test_df\n",
    "test_df['text'] = test_df['text'].apply(remove_URL)\n",
    "test_df['text'] = test_df['text'].apply(remove_html)\n",
    "test_df['text'] = test_df['text'].apply(remove_emoji)\n",
    "test_df['text'] = test_df['text'].apply(remove_punct)"
   ]
  },
  {
   "cell_type": "code",
   "execution_count": 9,
   "metadata": {},
   "outputs": [],
   "source": [
    "train_df.to_csv('train_clean.csv', index=False)\n",
    "test_df.to_csv('test_clean.csv', index=False)"
   ]
  },
  {
   "attachments": {},
   "cell_type": "markdown",
   "metadata": {},
   "source": [
    "## 2 Feature engineering"
   ]
  },
  {
   "cell_type": "code",
   "execution_count": 10,
   "metadata": {},
   "outputs": [],
   "source": [
    "df1 = pd.read_csv('train_clean.csv')\n",
    "df2 = pd.read_csv('test_clean.csv')"
   ]
  },
  {
   "attachments": {},
   "cell_type": "markdown",
   "metadata": {},
   "source": [
    "Sử dụng `TfidfVectorizer` để tính toán tần số xuất hiện của từ trong từng văn bản (Term Frequency - TF) và tần số xuất hiện của từ trong toàn bộ tập dữ liệu (Document Frequency - DF). Sau đó, tính giá trị Tfidf cho mỗi từ trong mỗi văn bản, kết hợp thông tin về TF và DF. Cho ra một ma trận biểu diễn các văn bản thành các vector số hóa, giúp cải thiện hiệu suất cho việc phân loại, gom cụm hay trích xuất thông tin."
   ]
  },
  {
   "cell_type": "code",
   "execution_count": 27,
   "metadata": {},
   "outputs": [],
   "source": [
    "vector=TfidfVectorizer(analyzer='word',max_features=5000,max_df=0.8)\n",
    "X=vector.fit_transform(df1[\"text\"])\n",
    "y = df1['target']\n",
    "\n",
    "X_train, X_test, y_train, y_test = train_test_split(X, y, test_size=0.2, random_state=42)"
   ]
  },
  {
   "cell_type": "code",
   "execution_count": 28,
   "metadata": {},
   "outputs": [],
   "source": [
    "df2 = pd.read_csv(\"test_clean.csv\")\n",
    "X1=vector.transform(df2[\"text\"])"
   ]
  },
  {
   "attachments": {},
   "cell_type": "markdown",
   "metadata": {},
   "source": [
    "## 3 Train model"
   ]
  },
  {
   "attachments": {},
   "cell_type": "markdown",
   "metadata": {},
   "source": [
    "### 3.1 Naive Bayes"
   ]
  },
  {
   "attachments": {},
   "cell_type": "markdown",
   "metadata": {},
   "source": [
    "Mô hình `MultinomialNB` là một mô hình học máy có giám sát sử dụng cho bài toán phân loại văn bản. Nó dựa trên nguyên tắc của `Naive Bayes` và được sử dụng cho các tập dữ liệu có các đặc trưng rời rạc, chẳng hạn như đếm số lần xuất hiện của các từ trong văn bản. Mô hình xây dựng bộ \"từ vựng\" từ dữ liệu huấn luyện và tính xác suất xuất hiện của các từ trong \"từ vựng\" trong các lớp khác nhau. Sau đó, sử dụng các xác suất này để huấn luyện mô hình và phân loại các văn bản mới bằng cách dự đoán lớp có xác suất cao nhất cho mỗi văn bản. "
   ]
  },
  {
   "cell_type": "code",
   "execution_count": 13,
   "metadata": {},
   "outputs": [
    {
     "name": "stdout",
     "output_type": "stream",
     "text": [
      "0.8067504963600265\n"
     ]
    }
   ],
   "source": [
    "model1 = MultinomialNB()\n",
    "model1.fit(X_train, y_train)\n",
    "\n",
    "predictions = model1.predict(X1)\n",
    "print(model1.score(X_test, y_test))\n",
    "\n",
    "pd.DataFrame({\"Id\": df2[\"id\"], \"Target\": predictions}).to_csv(\"data/submission.csv\", index=False)"
   ]
  },
  {
   "attachments": {},
   "cell_type": "markdown",
   "metadata": {},
   "source": [
    "### 3.2 Random Forest Classifier"
   ]
  },
  {
   "attachments": {},
   "cell_type": "markdown",
   "metadata": {},
   "source": [
    "Mô hình `RandomForestClassifier` là một mô hình học máy sử dụng trong bài toán phân loại. Nó dựa trên học kết hợp và sử dụng nhiều cây quyết định để thực hiện phân loại. Quá trình hoạt động bao gồm xây dựng nhiều cây quyết định độc lập, sau đó kết hợp kết quả dự đoán của chúng để đưa ra kết quả phân loại cuối cùng. `RandomForestClassifier` giúp tránh `overfitting` và tổng quát hóa tốt hơn do sử dụng nhiều cây và kết hợp kết quả của chúng. Các tham số quan trọng cần được điều chỉnh để cải thiện hiệu suất của mô hình. Mô hình này thường được sử dụng trong các bài toán phân loại phức tạp và đa dạng hoặc khi cần cải thiện tính tổng quát của mô hình."
   ]
  },
  {
   "cell_type": "code",
   "execution_count": 36,
   "metadata": {},
   "outputs": [
    {
     "name": "stdout",
     "output_type": "stream",
     "text": [
      "best C: 650, best accurary: 0.8054268696227663\n"
     ]
    }
   ],
   "source": [
    "estimators = range(100,1001,50)\n",
    "best_score = 0\n",
    "best_k = 0\n",
    "score=[]\n",
    "models = []\n",
    "\n",
    "for i in estimators:\n",
    "    model_ = RandomForestClassifier(n_estimators=i)\n",
    "    model_.fit(X_train, y_train)\n",
    "\n",
    "    accuracy_score_rfc = accuracy_score(y_test, model_.predict(X_test))\n",
    "    score.append(accuracy_score_rfc)\n",
    "    \n",
    "    models.append(model_)\n",
    "\n",
    "    if accuracy_score_rfc  > best_score:\n",
    "        best_score = accuracy_score_rfc\n",
    "        best_k = i\n",
    "\n",
    "print(f\"best C: {best_k}, best accurary: {best_score}\")"
   ]
  },
  {
   "cell_type": "code",
   "execution_count": 37,
   "metadata": {},
   "outputs": [
    {
     "data": {
      "text/plain": [
       "[<matplotlib.lines.Line2D at 0x1e5b99d8c10>]"
      ]
     },
     "execution_count": 37,
     "metadata": {},
     "output_type": "execute_result"
    },
    {
     "data": {
      "image/png": "[encoded data removed]",
      "text/plain": [
       "<Figure size 640x480 with 1 Axes>"
      ]
     },
     "metadata": {},
     "output_type": "display_data"
    }
   ],
   "source": [
    "plt.plot([*estimators],score)"
   ]
  },
  {
   "attachments": {},
   "cell_type": "markdown",
   "metadata": {},
   "source": [
    "Sau nhiều lần thử thì nhóm thấy mô hình tốt nhất tại `n_estimators = 650`."
   ]
  },
  {
   "cell_type": "code",
   "execution_count": 38,
   "metadata": {},
   "outputs": [
    {
     "name": "stdout",
     "output_type": "stream",
     "text": [
      "0.8021178027796162\n"
     ]
    }
   ],
   "source": [
    "model2 = RandomForestClassifier(n_estimators=650, random_state=42)\n",
    "model2.fit(X_train, y_train)\n",
    "\n",
    "predictions = model2.predict(X1)\n",
    "print(model2.score(X_test, y_test))\n",
    "\n",
    "pd.DataFrame({\"Id\": df2[\"id\"], \"Target\": predictions}).to_csv(\"data/submission1.csv\", index=False)"
   ]
  },
  {
   "attachments": {},
   "cell_type": "markdown",
   "metadata": {},
   "source": [
    "### 3.3 Support Vector Classifier"
   ]
  },
  {
   "attachments": {},
   "cell_type": "markdown",
   "metadata": {},
   "source": [
    "Mô hình `SVC` là một mô hình học máy được sử dụng trong bài toán phân loại. Nó dựa trên ý tưởng của máy vector hỗ trợ (Support Vector Machines - SVM) và tìm một đường ranh giới trong không gian đặc trưng để phân tách các lớp dữ liệu. `SVC` sử dụng các điểm dữ liệu gần nhất với đường ranh giới (hyperplane) để tối đa hóa khoảng cách giữa các lớp. Tham số `C` (mức độ chấp nhận lỗi) điều chỉnh mức độ \"mềm\" của đường ranh giới. Nó được sử dụng phổ biến trong các bài toán phân loại phức tạp, nhất là khi dữ liệu không phân tách tuyến tính. Tuy nhiên, việc huấn luyện `SVC` có thể tốn nhiều thời gian đối với các tập dữ liệu lớn."
   ]
  },
  {
   "cell_type": "code",
   "execution_count": 41,
   "metadata": {},
   "outputs": [
    {
     "name": "stdout",
     "output_type": "stream",
     "text": [
      "C: 0.01, accurary: 0.5784248841826605\n",
      "C: 0.1, accurary: 0.628722700198544\n",
      "C: 0.5, accurary: 0.800794176042356\n",
      "C: 1, accurary: 0.8067504963600265\n",
      "C: 1.5, accurary: 0.8074123097286565\n",
      "C: 2, accurary: 0.8047650562541363\n",
      "C: 5, accurary: 0.8014559894109861\n",
      "C: 10, accurary: 0.800132362673726\n",
      "best C: 1.5, best accurary: 0.8074123097286565\n"
     ]
    }
   ],
   "source": [
    "C = [0.01,0.1, 0.5, 1, 1.5, 2, 5, 10]\n",
    "#k = ['linear', 'poly', 'rbf', 'sigmoid']\n",
    "best_score = 0\n",
    "best_C = ''\n",
    "score_1 = []\n",
    "#best_k = ''\n",
    "#score_2 = []\n",
    "for i in C:\n",
    "    model4 = SVC(C=i)\n",
    "    model4.fit(X_train, y_train)\n",
    "\n",
    "    accuracy_score_svc = accuracy_score(y_test, model4.predict(X_test))\n",
    "    score_1.append(accuracy_score_svc)\n",
    "    #score_2.append(accuracy_score_svc)\n",
    "\n",
    "    if accuracy_score_svc  > best_score:\n",
    "        best_score = accuracy_score_svc \n",
    "        best_C = i\n",
    "        #best_k = i\n",
    "\n",
    "    print(f\"C: {i}, accurary: {accuracy_score_svc }\")\n",
    "    #print(f\"k: {i}, accurary: {accuracy_score_svc }\")\n",
    "\n",
    "print(f\"best C: {best_C}, best accurary: {best_score}\")\n",
    "#print(f\"best k: {best_k}, best accurary: {best_score}\")"
   ]
  },
  {
   "cell_type": "code",
   "execution_count": 42,
   "metadata": {},
   "outputs": [
    {
     "data": {
      "image/png": "[encoded data removed]",
      "text/plain": [
       "<Figure size 640x480 with 1 Axes>"
      ]
     },
     "metadata": {},
     "output_type": "display_data"
    }
   ],
   "source": [
    "plt.plot(C,score_1);"
   ]
  },
  {
   "attachments": {},
   "cell_type": "markdown",
   "metadata": {},
   "source": [
    "Sau nhiều lần thử thì nhóm thấy mô hình tốt cao nhất tại `kernel = 'linear'` và `C = 1.5`."
   ]
  },
  {
   "cell_type": "code",
   "execution_count": 17,
   "metadata": {},
   "outputs": [
    {
     "name": "stdout",
     "output_type": "stream",
     "text": [
      "0.8067504963600265\n"
     ]
    }
   ],
   "source": [
    "model3 = SVC(C=1.5)\n",
    "model3.fit(X_train, y_train)\n",
    "\n",
    "predictions = model3.predict(X1)\n",
    "print(model3.score(X_test, y_test))\n",
    "\n",
    "pd.DataFrame({\"Id\": df2[\"id\"], \"Target\": predictions}).to_csv(\"data/submission2.csv\", index=False)"
   ]
  },
  {
   "attachments": {},
   "cell_type": "markdown",
   "metadata": {},
   "source": [
    "### 3.4 Logistic Regression"
   ]
  },
  {
   "attachments": {},
   "cell_type": "markdown",
   "metadata": {},
   "source": [
    "Mô hình `LogisticRegression` là một mô hình học máy sử dụng cho bài toán phân loại hai lớp (binary classification). Nó tính toán xác suất của điểm dữ liệu thuộc vào lớp positive sử dụng hàm sigmoid. Trong quá trình huấn luyện, mô hình điều chỉnh các trọng số của đặc trưng để tối ưu hóa việc dự đoán xác suất cho các điểm dữ liệu huấn luyện bằng cách tối thiểu hóa hàm mất mát (loss function), như hàm `cross-entropy`. Sau đó, mô hình có thể dự đoán lớp của các điểm dữ liệu mới dựa trên xác suất và ngưỡng quyết định. Mô hình `LogisticRegression` là một lựa chọn phổ biến và hiệu quả cho các bài toán phân loại hai lớp."
   ]
  },
  {
   "cell_type": "code",
   "execution_count": 18,
   "metadata": {},
   "outputs": [
    {
     "name": "stdout",
     "output_type": "stream",
     "text": [
      "0.8027796161482462\n"
     ]
    }
   ],
   "source": [
    "model4 = LogisticRegression()\n",
    "model4.fit(X_train, y_train)\n",
    "\n",
    "predictions = model4.predict(X1)\n",
    "print(model4.score(X_test, y_test))\n",
    "\n",
    "pd.DataFrame({\"Id\": df2[\"id\"], \"Target\": predictions}).to_csv(\"data/submission3.csv\", index=False)"
   ]
  },
  {
   "attachments": {},
   "cell_type": "markdown",
   "metadata": {},
   "source": [
    "### 3.5 SentenceTransformer"
   ]
  },
  {
   "attachments": {},
   "cell_type": "markdown",
   "metadata": {},
   "source": [
    "- `SentenceTransformer` là một thư viện Python mã nguồn mở sử dụng các mô hình mã hóa bổ sung để chuyển đổi các câu văn bản thành các vector số hóa chất lượng cao. Các vector số hóa này có thể được sử dụng cho nhiều tác vụ xử lý ngôn ngữ tự nhiên, chẳng hạn như so sánh sự tương đồng giữa các câu, phân loại văn bản, tóm tắt, dịch máy và nhiều tác vụ NLP khác. `SentenceTransformer` cung cấp các mô hình đã được đào tạo sẵn ở đây nhóm chọn mô hình `paraphrase-MiniLM-L6-v2`.\n",
    "\n",
    "- Mô hình `paraphrase-MiniLM-L6-v2` là một mô hình mã hóa câu sử dụng kiến trúc Transformer. Nó được đào tạo trên một tập dữ liệu lớn chứa các cặp câu đồng nghĩa hoặc gần như đồng nghĩa. Mô hình này mã hóa các câu thành các vector số hóa chất lượng cao với số chiều nhỏ hơn so với các mô hình lớn hơn. Nó cung cấp chất lượng số hóa cao trong khi tiêu thụ tài nguyên tính toán thấp, `paraphrase-MiniLM-L6-v2` phù hợp cho các ứng dụng yêu cầu tài nguyên giới hạn nhưng vẫn cần hiệu suất cao."
   ]
  },
  {
   "cell_type": "code",
   "execution_count": 19,
   "metadata": {},
   "outputs": [],
   "source": [
    "enc_model = SentenceTransformer('paraphrase-MiniLM-L6-v2');"
   ]
  },
  {
   "attachments": {},
   "cell_type": "markdown",
   "metadata": {},
   "source": [
    "Sử dụng `unidecode` để loại bỏ các dấu câu tiếng Việt để đưa văn bản về dạng không dấu."
   ]
  },
  {
   "cell_type": "code",
   "execution_count": 43,
   "metadata": {},
   "outputs": [],
   "source": [
    "X_train_ = df1.text.apply(unidecode).to_numpy()\n",
    "X_test1 = df2.text.apply(unidecode).to_numpy()\n",
    "y_train_= df1.target.to_numpy()\n",
    "\n",
    "X_train1, X_val, y_train1, y_val = train_test_split(X_train_, y_train_, test_size=0.1, random_state=42)"
   ]
  },
  {
   "attachments": {},
   "cell_type": "markdown",
   "metadata": {},
   "source": [
    "Sử dụng hàm `encode` của mô hình `paraphrase-MiniLM-L6-v2` để mã hóa các văn bản thành vector."
   ]
  },
  {
   "cell_type": "code",
   "execution_count": 44,
   "metadata": {},
   "outputs": [],
   "source": [
    "X_train1 = enc_model.encode(X_train1)\n",
    "X_val = enc_model.encode(X_val)\n",
    "X_test1 = enc_model.encode(X_test1)"
   ]
  },
  {
   "cell_type": "code",
   "execution_count": 45,
   "metadata": {},
   "outputs": [
    {
     "name": "stdout",
     "output_type": "stream",
     "text": [
      "C: 0.375, accurary: 0.8042328042328042\n",
      "C: 1.25, accurary: 0.8068783068783069\n",
      "C: 1.35, accurary: 0.8068783068783069\n",
      "C: 1.5, accurary: 0.8121693121693122\n",
      "C: 1.75, accurary: 0.8121693121693122\n",
      "C: 2, accurary: 0.8095238095238095\n",
      "C: 2.25, accurary: 0.8095238095238095\n",
      "C: 2.5, accurary: 0.8042328042328042\n",
      "best C: 1.5, best accurary: 0.8121693121693122\n"
     ]
    }
   ],
   "source": [
    "C = [0.375, 1.25, 1.35, 1.5, 1.75, 2, 2.25, 2.5]\n",
    "best_score = 0\n",
    "best_C = ''\n",
    "score_st = []\n",
    "for i in C:\n",
    "    model_ = SVC(C=i)\n",
    "    model_.fit(X_train1, y_train1)\n",
    "\n",
    "    accuracy_score_svc = accuracy_score(y_val, model_.predict(X_val))\n",
    "\n",
    "    score_st.append(accuracy_score_svc)\n",
    "\n",
    "    if accuracy_score_svc  > best_score:\n",
    "        best_score = accuracy_score_svc \n",
    "        best_C = i\n",
    "\n",
    "    print(f\"C: {i}, accurary: {accuracy_score_svc }\")\n",
    "\n",
    "print(f\"best C: {best_C}, best accurary: {best_score}\")"
   ]
  },
  {
   "cell_type": "code",
   "execution_count": 47,
   "metadata": {},
   "outputs": [
    {
     "data": {
      "image/png": "[encoded data removed]",
      "text/plain": [
       "<Figure size 640x480 with 1 Axes>"
      ]
     },
     "metadata": {},
     "output_type": "display_data"
    }
   ],
   "source": [
    "plt.plot(C,score_st);"
   ]
  },
  {
   "attachments": {},
   "cell_type": "markdown",
   "metadata": {},
   "source": [
    "Sau nhiều lần thử thì nhóm thấy mô hình tốt nhất tại `C=1.5`."
   ]
  },
  {
   "cell_type": "code",
   "execution_count": 23,
   "metadata": {},
   "outputs": [],
   "source": [
    "model5 = SVC(C=1.5)\n",
    "model5.fit(X_train1, y_train1)\n",
    "\n",
    "predictions = model5.predict(X_test1)\n",
    "\n",
    "pd.DataFrame({\"id\": df2.id, \"target\": predictions}).to_csv(\"data/submission4__.csv\", index=False)"
   ]
  },
  {
   "attachments": {},
   "cell_type": "markdown",
   "metadata": {},
   "source": [
    "## Kết luận \n",
    "\n",
    "Qua quan sát các kết quả của các mô hình cũng như kết quả trên Leaderboard của Kaggle thì mô hình sử dụng SentenceTrasformer cho ra kết quả tốt nhất."
   ]
  },
  {
   "attachments": {},
   "cell_type": "markdown",
   "metadata": {},
   "source": [
    "![alt text](leaderboard.png \"Title\")"
   ]
  }
 ],
 "metadata": {
  "kernelspec": {
   "display_name": "Python 3 (ipykernel)",
   "language": "python",
   "name": "python3"
  },
  "language_info": {
   "codemirror_mode": {
    "name": "ipython",
    "version": 3
   },
   "file_extension": ".py",
   "mimetype": "text/x-python",
   "name": "python",
   "nbconvert_exporter": "python",
   "pygments_lexer": "ipython3",
   "version": "3.10.9"
  }
 },
 "nbformat": 4,
 "nbformat_minor": 2
}
